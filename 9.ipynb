{
 "cells": [
  {
   "cell_type": "code",
   "execution_count": 1,
   "metadata": {},
   "outputs": [
    {
     "name": "stdout",
     "output_type": "stream",
     "text": [
      "Accuracy :-  0.9736842105263158\n",
      "P :- versicolor A :- versicolor\n",
      "P :- versicolor A :- versicolor\n",
      "P :- versicolor A :- virginica\n",
      "P :- setosa A :- setosa\n",
      "P :- versicolor A :- versicolor\n",
      "P :- setosa A :- setosa\n",
      "P :- versicolor A :- versicolor\n",
      "P :- virginica A :- virginica\n",
      "P :- versicolor A :- versicolor\n",
      "P :- versicolor A :- versicolor\n",
      "P :- setosa A :- setosa\n",
      "P :- setosa A :- setosa\n",
      "P :- versicolor A :- versicolor\n",
      "P :- versicolor A :- versicolor\n",
      "P :- setosa A :- setosa\n",
      "P :- virginica A :- virginica\n",
      "P :- versicolor A :- versicolor\n",
      "P :- setosa A :- setosa\n",
      "P :- versicolor A :- versicolor\n",
      "P :- setosa A :- setosa\n",
      "P :- setosa A :- setosa\n",
      "P :- setosa A :- setosa\n",
      "P :- setosa A :- setosa\n",
      "P :- versicolor A :- versicolor\n",
      "P :- versicolor A :- versicolor\n",
      "P :- versicolor A :- versicolor\n",
      "P :- versicolor A :- versicolor\n",
      "P :- virginica A :- virginica\n",
      "P :- virginica A :- virginica\n",
      "P :- setosa A :- setosa\n",
      "P :- versicolor A :- versicolor\n",
      "P :- setosa A :- setosa\n",
      "P :- virginica A :- virginica\n",
      "P :- virginica A :- virginica\n",
      "P :- setosa A :- setosa\n",
      "P :- versicolor A :- versicolor\n",
      "P :- virginica A :- virginica\n",
      "P :- virginica A :- virginica\n"
     ]
    }
   ],
   "source": [
    "import numpy as np\n",
    "from sklearn.datasets import load_iris\n",
    "\n",
    "from sklearn.neighbors import KNeighborsClassifier\n",
    "from sklearn.model_selection import train_test_split\n",
    "\n",
    "iris_dataset = load_iris()\n",
    "\n",
    "X_train, X_test, Y_train, Y_test = train_test_split(\n",
    "                                        iris_dataset['data'],\n",
    "                                        iris_dataset['target']\n",
    "                                    )\n",
    "knn = KNeighborsClassifier()\n",
    "\n",
    "knn.fit(X_train, Y_train)\n",
    "\n",
    "prediction = knn.predict(X_test)\n",
    "\n",
    "print('Accuracy :- ', knn.score(X_test, Y_test))\n",
    "\n",
    "target_names = iris_dataset.target_names\n",
    "\n",
    "for pred, actual in zip(prediction, Y_test):\n",
    "    print(\"P :- \" + str(target_names[pred]) + \" A :- \" + str(target_names[actual]))\n"
   ]
  },
  {
   "cell_type": "code",
   "execution_count": null,
   "metadata": {},
   "outputs": [],
   "source": []
  }
 ],
 "metadata": {
  "kernelspec": {
   "display_name": "Python 3",
   "language": "python",
   "name": "python3"
  },
  "language_info": {
   "codemirror_mode": {
    "name": "ipython",
    "version": 3
   },
   "file_extension": ".py",
   "mimetype": "text/x-python",
   "name": "python",
   "nbconvert_exporter": "python",
   "pygments_lexer": "ipython3",
   "version": "3.6.7"
  }
 },
 "nbformat": 4,
 "nbformat_minor": 2
}
