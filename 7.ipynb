{
 "cells": [
  {
   "cell_type": "code",
   "execution_count": 1,
   "metadata": {},
   "outputs": [
    {
     "name": "stdout",
     "output_type": "stream",
     "text": [
      "Iteration 1: loglike=-6.453500e+00 (0.007 seconds)\n",
      "Iteration 2: loglike=-6.453500e+00 (0.005 seconds)\n",
      "Converged at iteration 2.\n",
      "P(asia):  0.9523809523809524\n",
      "P(tuberculosis):  1.0\n",
      "P(smoking):  0.0\n",
      "P(lung):  0.02\n",
      "P(bronchitis):  1.0\n",
      "P(xray):  0.885\n",
      "P(dyspnea):  0.96\n"
     ]
    },
    {
     "name": "stderr",
     "output_type": "stream",
     "text": [
      "/usr/local/lib/python3.6/dist-packages/bayespy/inference/vmp/nodes/categorical.py:107: FutureWarning: Using a non-tuple sequence for multidimensional indexing is deprecated; use `arr[tuple(seq)]` instead of `arr[seq]`. In the future this will be interpreted as an array index, `arr[np.array(seq)]`, which will result either in an error or a different result.\n",
      "  u0[[np.arange(np.size(x)), np.ravel(x)]] = 1\n"
     ]
    }
   ],
   "source": [
    "from bayespy.nodes import Categorical, Mixture\n",
    "from bayespy.inference import VB\n",
    "import numpy as np\n",
    "\n",
    "TRUE, FALSE = 1, 0\n",
    "\n",
    "def _or(p_false, p_true):\n",
    "    return np.take([p_false, p_true], [[FALSE, TRUE], [TRUE, TRUE]], axis = 0)\n",
    "\n",
    "A = Categorical([0.5, 0.5]) #Asia\n",
    "\n",
    "T = Mixture(A, Categorical, [[0.99, 0.01], [0.8, 0.2]]) #Tuberculosis\n",
    "\n",
    "S = Categorical([0.5, 0.5]) #Smoking\n",
    "\n",
    "L = Mixture(S, Categorical, [[0.98, 0.02], [0.75, 0.25]]) #Lung\n",
    "\n",
    "B = Mixture(S, Categorical, [[0.97, 0.03], [0.70, 0.30]]) #Bronchitis\n",
    "\n",
    "X = Mixture(T, Mixture, L, Categorical, _or([0.96, 0.04], [0.115, 0.885])) #Xray\n",
    "\n",
    "D = Mixture(B, Mixture, X, Categorical, _or([0.115, 0.885], [0.04, 0.96])) #Dyspnea\n",
    "\n",
    "T.observe(TRUE)\n",
    "S.observe(FALSE)\n",
    "\n",
    "B.observe(TRUE)\n",
    "\n",
    "Q = VB(A, T, S, L, B, X, D)\n",
    "Q.update(repeat=100)\n",
    "\n",
    "print(\"P(asia): \", A.get_moments()[0][TRUE])\n",
    "print(\"P(tuberculosis): \", T.get_moments()[0][TRUE])\n",
    "print(\"P(smoking): \", S.get_moments()[0][TRUE])\n",
    "print(\"P(lung): \", L.get_moments()[0][TRUE])\n",
    "print(\"P(bronchitis): \", B.get_moments()[0][TRUE])\n",
    "print(\"P(xray): \", X.get_moments()[0][TRUE])\n",
    "print(\"P(dyspnea): \", D.get_moments()[0][TRUE])"
   ]
  },
  {
   "cell_type": "code",
   "execution_count": null,
   "metadata": {},
   "outputs": [],
   "source": []
  }
 ],
 "metadata": {
  "kernelspec": {
   "display_name": "Python 3",
   "language": "python",
   "name": "python3"
  },
  "language_info": {
   "codemirror_mode": {
    "name": "ipython",
    "version": 3
   },
   "file_extension": ".py",
   "mimetype": "text/x-python",
   "name": "python",
   "nbconvert_exporter": "python",
   "pygments_lexer": "ipython3",
   "version": "3.6.7"
  }
 },
 "nbformat": 4,
 "nbformat_minor": 2
}
