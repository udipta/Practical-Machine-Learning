{
 "cells": [
  {
   "cell_type": "code",
   "execution_count": 1,
   "metadata": {},
   "outputs": [],
   "source": [
    "%config IPCompleter.greedy = True\n",
    "\n",
    "import pandas as pd\n",
    "\n",
    "df = pd.read_csv('train.csv')\n",
    "\n",
    "spec_df = df.loc[df['EnjoySport'].str.upper()=='YES']\n",
    "gene_df = df.loc[df['EnjoySport'].str.upper()=='NO']\n",
    "\n",
    "print(spec_df,gene_df, sep='\\n\\n', end='\\n\\n')\n",
    "\n",
    "spec_df, gene_df = spec_df.iloc[:,:-1], gene_df.iloc[:, :-1]\n",
    "base = spec_df.iloc[0]\n",
    "\n",
    "for x in range(1, len(spec_df)):\n",
    "    base = base.where(spec_df.iloc[x]==base, other = '?')\n",
    "\n",
    "print('Specific Hypothesis :-\\n', base.values)"
   ]
  },
  {
   "cell_type": "code",
   "execution_count": 10,
   "metadata": {},
   "outputs": [
    {
     "name": "stdout",
     "output_type": "stream",
     "text": [
      "General Hypothesis :-\n",
      "['Sunny', '?', '?', '?', '?']\n",
      "['?', 'Warm', '?', '?', '?']\n",
      "['?', '?', '?', 'Strong', '?']\n"
     ]
    }
   ],
   "source": [
    "# for Candidate Elimination\n",
    "for x in range(1, len(gene_df)):\n",
    "    base = base.where(gene_df.iloc[x]!=base, other = '?')\n",
    "\n",
    "print('General Hypothesis :-')\n",
    "\n",
    "for i,x in enumerate(base):\n",
    "    if x != '?':\n",
    "        l = ['?']*len(base)\n",
    "        l[i] = x\n",
    "        print(l)"
   ]
  },
  {
   "cell_type": "code",
   "execution_count": null,
   "metadata": {},
   "outputs": [],
   "source": []
  }
 ],
 "metadata": {
  "kernelspec": {
   "display_name": "Python 3",
   "language": "python",
   "name": "python3"
  },
  "language_info": {
   "codemirror_mode": {
    "name": "ipython",
    "version": 3
   },
   "file_extension": ".py",
   "mimetype": "text/x-python",
   "name": "python",
   "nbconvert_exporter": "python",
   "pygments_lexer": "ipython3",
   "version": "3.6.7"
  }
 },
 "nbformat": 4,
 "nbformat_minor": 2
}
