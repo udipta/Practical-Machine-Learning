{
 "cells": [
  {
   "cell_type": "code",
   "execution_count": 5,
   "metadata": {},
   "outputs": [
    {
     "name": "stdout",
     "output_type": "stream",
     "text": [
      "Accuracy Score :-  0.8348868175765646\n",
      "                        precision    recall  f1-score   support\n",
      "\n",
      "           alt.atheism       0.97      0.60      0.74       319\n",
      "         comp.graphics       0.96      0.89      0.92       389\n",
      "               sci.med       0.97      0.81      0.88       396\n",
      "soc.religion.christian       0.65      0.99      0.78       398\n",
      "\n",
      "             micro avg       0.83      0.83      0.83      1502\n",
      "             macro avg       0.89      0.82      0.83      1502\n",
      "          weighted avg       0.88      0.83      0.84      1502\n",
      "\n",
      "Confusion Matrix :- \n",
      " [[192   2   6 119]\n",
      " [  2 347   4  36]\n",
      " [  2  11 322  61]\n",
      " [  2   2   1 393]]\n"
     ]
    }
   ],
   "source": [
    "from sklearn.datasets import fetch_20newsgroups\n",
    "\n",
    "categories = ['alt.atheism', 'comp.graphics', 'soc.religion.christian', 'sci.med']\n",
    "news_train = fetch_20newsgroups(subset='train', shuffle = True,categories=categories)\n",
    "news_test = fetch_20newsgroups(subset='test', shuffle = True,categories=categories)\n",
    "\n",
    "\n",
    "from sklearn.feature_extraction.text import TfidfVectorizer\n",
    "from sklearn.naive_bayes import MultinomialNB\n",
    "from sklearn.pipeline import Pipeline\n",
    "\n",
    "text_clf = Pipeline([('vect', TfidfVectorizer()),('clf', MultinomialNB())])\n",
    "\n",
    "text_clf.fit(news_train.data, news_train.target)\n",
    "\n",
    "predicted = text_clf.predict(news_test.data)\n",
    "\n",
    "from sklearn import metrics\n",
    "\n",
    "print('Accuracy Score :- ', metrics.accuracy_score(predicted, news_test.target))\n",
    "\n",
    "print(metrics.classification_report(news_test.target, predicted, target_names = news_test.target_names))\n",
    "\n",
    "print('Confusion Matrix :- \\n', metrics.confusion_matrix(news_test.target,predicted))\n"
   ]
  },
  {
   "cell_type": "code",
   "execution_count": null,
   "metadata": {},
   "outputs": [],
   "source": []
  }
 ],
 "metadata": {
  "kernelspec": {
   "display_name": "Python 3",
   "language": "python",
   "name": "python3"
  },
  "language_info": {
   "codemirror_mode": {
    "name": "ipython",
    "version": 3
   },
   "file_extension": ".py",
   "mimetype": "text/x-python",
   "name": "python",
   "nbconvert_exporter": "python",
   "pygments_lexer": "ipython3",
   "version": "3.6.7"
  }
 },
 "nbformat": 4,
 "nbformat_minor": 2
}
